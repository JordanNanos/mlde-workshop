{
 "cells": [
  {
   "cell_type": "markdown",
   "id": "6d065688-736b-487d-9f28-d5624dd99e82",
   "metadata": {},
   "source": [
    "### Example commands to launch MLDE experiments"
   ]
  },
  {
   "cell_type": "code",
   "execution_count": 1,
   "id": "9c1a1a5a-cb11-4b25-923b-05d08de4b08d",
   "metadata": {},
   "outputs": [
    {
     "name": "stdout",
     "output_type": "stream",
     "text": [
      "Preparing files to send to master... 47.9KB and 14 files\n",
      "Created experiment 203\n"
     ]
    }
   ],
   "source": [
    "!det e create 01-const.yaml ."
   ]
  },
  {
   "cell_type": "code",
   "execution_count": null,
   "id": "97333ec0-48f3-433f-92eb-53e9efb9fa15",
   "metadata": {},
   "outputs": [],
   "source": [
    "!det e create 02-metrics.yaml ."
   ]
  },
  {
   "cell_type": "code",
   "execution_count": null,
   "id": "cd8ffe76-f7d6-42ad-acfd-e896c23d5cb8",
   "metadata": {},
   "outputs": [],
   "source": [
    "!det e create 03-checkpoints.yaml ."
   ]
  },
  {
   "cell_type": "code",
   "execution_count": null,
   "id": "74437e0d-21c2-4853-9bb1-0f97eca1269b",
   "metadata": {},
   "outputs": [],
   "source": []
  },
  {
   "cell_type": "code",
   "execution_count": null,
   "id": "42a84420-60ad-47f0-b3d1-38c8138a7920",
   "metadata": {},
   "outputs": [],
   "source": []
  },
  {
   "cell_type": "code",
   "execution_count": null,
   "id": "ce4f0489-d4fb-4171-850f-77f27a98f347",
   "metadata": {},
   "outputs": [],
   "source": []
  }
 ],
 "metadata": {
  "kernelspec": {
   "display_name": "Python 3 (ipykernel)",
   "language": "python",
   "name": "python3"
  },
  "language_info": {
   "codemirror_mode": {
    "name": "ipython",
    "version": 3
   },
   "file_extension": ".py",
   "mimetype": "text/x-python",
   "name": "python",
   "nbconvert_exporter": "python",
   "pygments_lexer": "ipython3",
   "version": "3.8.18"
  }
 },
 "nbformat": 4,
 "nbformat_minor": 5
}
