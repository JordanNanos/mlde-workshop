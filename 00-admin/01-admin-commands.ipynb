{
 "cells": [
  {
   "cell_type": "markdown",
   "metadata": {},
   "source": [
    "### This notebook includes some example commands using the determined CLI"
   ]
  },
  {
   "cell_type": "code",
   "execution_count": null,
   "metadata": {},
   "outputs": [],
   "source": [
    "#pip install determined==0.31.0"
   ]
  },
  {
   "cell_type": "code",
   "execution_count": 2,
   "metadata": {},
   "outputs": [],
   "source": [
    "#export DET_MASTER=10.10.10.10:8080\n",
    "master_host = \"10.182.1.111:3389\""
   ]
  },
  {
   "cell_type": "code",
   "execution_count": 3,
   "metadata": {},
   "outputs": [
    {
     "name": "stdout",
     "output_type": "stream",
     "text": [
      " Agent ID   | Version   | Registered Time          |   Slots |   Containers | Resource Pool   | Enabled   | Draining   | Addresses\n",
      "------------+-----------+--------------------------+---------+--------------+-----------------+-----------+------------+--------------\n",
      " walnut     | 0.26.3    | 2024-04-29 19:30:50+0000 |       2 |            1 | a100            | True      | False      | 10.182.1.111\n"
     ]
    }
   ],
   "source": [
    "#or, det -m 10.10.10.10:8080 agent list\n",
    "!det -m {master_host} agent list\n",
    "#!det agent list"
   ]
  },
  {
   "cell_type": "code",
   "execution_count": 4,
   "metadata": {},
   "outputs": [
    {
     "name": "stdout",
     "output_type": "stream",
     "text": [
      " Agent ID   | Resource Pool   |   Slot ID | Enabled   | Draining   | Allocation ID                          | Task Name   | Type   | Device\n",
      "------------+-----------------+-----------+-----------+------------+----------------------------------------+-------------+--------+-----------------------\n",
      " walnut     | a100            |         0 | True      | False      | 511c8006-c738-4adb-99f9-2205b540eda8.1 | llama3      | cuda   | NVIDIA A100 80GB PCIe\n",
      " walnut     | a100            |         1 | True      | False      | FREE                                   | FREE        | cuda   | NVIDIA A100 80GB PCIe\n"
     ]
    }
   ],
   "source": [
    "!det slot list"
   ]
  },
  {
   "cell_type": "code",
   "execution_count": 5,
   "metadata": {},
   "outputs": [
    {
     "name": "stdout",
     "output_type": "stream",
     "text": [
      "   ID | Owner   | Name                       | Parent ID   | State     | Progress   | Started                  | Ended                    | Resource Pool\n",
      "------+---------+----------------------------+-------------+-----------+------------+--------------------------+--------------------------+-----------------\n",
      "    7 | admin   | example cifar10 experiment |             | COMPLETED | 100.0%     | 2024-04-30 13:20:10+0000 | 2024-04-30 13:34:33+0000 | a100\n"
     ]
    }
   ],
   "source": [
    "!det experiment list"
   ]
  },
  {
   "cell_type": "code",
   "execution_count": null,
   "metadata": {},
   "outputs": [],
   "source": []
  },
  {
   "cell_type": "code",
   "execution_count": null,
   "metadata": {},
   "outputs": [],
   "source": []
  },
  {
   "cell_type": "code",
   "execution_count": null,
   "metadata": {},
   "outputs": [],
   "source": []
  }
 ],
 "metadata": {
  "kernelspec": {
   "display_name": "det26",
   "language": "python",
   "name": "python3"
  },
  "language_info": {
   "codemirror_mode": {
    "name": "ipython",
    "version": 3
   },
   "file_extension": ".py",
   "mimetype": "text/x-python",
   "name": "python",
   "nbconvert_exporter": "python",
   "pygments_lexer": "ipython3",
   "version": "3.10.13"
  }
 },
 "nbformat": 4,
 "nbformat_minor": 2
}
