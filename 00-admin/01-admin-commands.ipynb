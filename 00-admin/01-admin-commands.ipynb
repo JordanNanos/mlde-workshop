{
 "cells": [
  {
   "cell_type": "markdown",
   "metadata": {},
   "source": [
    "### This notebook includes some example commands using the determined CLI"
   ]
  },
  {
   "cell_type": "code",
   "execution_count": null,
   "metadata": {},
   "outputs": [],
   "source": [
    "#pip install determined==0.31.0"
   ]
  },
  {
   "cell_type": "code",
   "execution_count": 1,
   "metadata": {},
   "outputs": [],
   "source": [
    "#export DET_MASTER=10.10.10.10:8080\n",
    "master_host = \"10.182.1.111:3389\""
   ]
  },
  {
   "cell_type": "code",
   "execution_count": 2,
   "metadata": {},
   "outputs": [
    {
     "name": "stdout",
     "output_type": "stream",
     "text": [
      " Agent ID   | Version   | Registered Time          |   Slots |   Containers | Resource Pool   | Enabled   | Draining   | Addresses\n",
      "------------+-----------+--------------------------+---------+--------------+-----------------+-----------+------------+--------------\n",
      " walnut     | 0.26.3    | 2024-04-29 19:30:50+0000 |       2 |            2 | a100            | True      | False      | 10.182.1.111\n"
     ]
    }
   ],
   "source": [
    "#or, det -m 10.10.10.10:8080 agent list\n",
    "!det -m {master_host} agent list\n",
    "#!det agent list"
   ]
  },
  {
   "cell_type": "code",
   "execution_count": 3,
   "metadata": {},
   "outputs": [
    {
     "name": "stdout",
     "output_type": "stream",
     "text": [
      " Agent ID   | Resource Pool   |   Slot ID | Enabled   | Draining   | Allocation ID                          | Task Name   | Type   | Device\n",
      "------------+-----------------+-----------+-----------+------------+----------------------------------------+-------------+--------+-----------------------\n",
      " walnut     | a100            |         0 | True      | False      | 511c8006-c738-4adb-99f9-2205b540eda8.1 | llama3      | cuda   | NVIDIA A100 80GB PCIe\n",
      " walnut     | a100            |         1 | True      | False      | 41694155-555a-4056-a5de-f722651f8c67.1 | jordan-new  | cuda   | NVIDIA A100 80GB PCIe\n"
     ]
    }
   ],
   "source": [
    "!det slot list"
   ]
  },
  {
   "cell_type": "code",
   "execution_count": 4,
   "metadata": {},
   "outputs": [
    {
     "name": "stdout",
     "output_type": "stream",
     "text": [
      "   ID | Owner   | Name                       | Parent ID   | State     | Progress   | Started                  | Ended                    | Resource Pool\n",
      "------+---------+----------------------------+-------------+-----------+------------+--------------------------+--------------------------+-----------------\n",
      "    7 | admin   | example cifar10 experiment |             | COMPLETED | 100.0%     | 2024-04-30 13:20:10+0000 | 2024-04-30 13:34:33+0000 | a100\n"
     ]
    }
   ],
   "source": [
    "!det experiment list"
   ]
  },
  {
   "cell_type": "code",
   "execution_count": 5,
   "metadata": {},
   "outputs": [
    {
     "name": "stdout",
     "output_type": "stream",
     "text": [
      "det 0.26.3\n"
     ]
    }
   ],
   "source": [
    "!det -v"
   ]
  },
  {
   "cell_type": "code",
   "execution_count": 6,
   "metadata": {},
   "outputs": [
    {
     "name": "stdout",
     "output_type": "stream",
     "text": [
      "You are logged in as user 'admin'\n"
     ]
    }
   ],
   "source": [
    "!det user whoami"
   ]
  },
  {
   "cell_type": "code",
   "execution_count": 7,
   "metadata": {},
   "outputs": [
    {
     "name": "stdout",
     "output_type": "stream",
     "text": [
      "usage: det [-h] [-u username] [-m address] [-v] command ...\n",
      "\n",
      "Determined command-line client\n",
      "\n",
      "positional arguments:\n",
      "  command\n",
      "    help                show help for this command\n",
      "    auth                manage auth\n",
      "    agent (a)           manage agents\n",
      "    command (cmd)       manage commands\n",
      "    checkpoint (c)      manage checkpoints\n",
      "    deploy (d)          manage deployments\n",
      "    experiment (e)      manage experiments\n",
      "    job (j)             manage jobs\n",
      "    master              manage master\n",
      "    model (m)           manage models\n",
      "    notebook            manage notebooks\n",
      "    oauth               manage OAuth\n",
      "    preview-search      preview search\n",
      "    project (p)         manage projects\n",
      "    rbac                manage roles based access controls\n",
      "    resource-pool (rp)  manage resource pools\n",
      "    resources (res)     query historical resource allocation\n",
      "    shell               manage shells\n",
      "    slot (s)            manage slots\n",
      "    task                manage tasks (commands, experiments, notebooks,\n",
      "                        shells, tensorboards)\n",
      "    template (tpl)      manage config templates\n",
      "    tensorboard         manage TensorBoard instances\n",
      "    trial (t)           manage trials\n",
      "    user-group          manage user groups\n",
      "    user (u)            manage users\n",
      "    version             show version information\n",
      "    workspace (w)       manage workspaces\n",
      "\n",
      "options:\n",
      "  -h, --help            show this help message and exit\n",
      "  -u username, --user username\n",
      "                        run as the given user (default: None)\n",
      "  -m address, --master address\n",
      "                        master address (default: localhost:3389)\n",
      "  -v, --version         print CLI version and exit\n"
     ]
    }
   ],
   "source": [
    "!det "
   ]
  },
  {
   "cell_type": "code",
   "execution_count": null,
   "metadata": {},
   "outputs": [],
   "source": []
  }
 ],
 "metadata": {
  "kernelspec": {
   "display_name": "det26",
   "language": "python",
   "name": "python3"
  },
  "language_info": {
   "codemirror_mode": {
    "name": "ipython",
    "version": 3
   },
   "file_extension": ".py",
   "mimetype": "text/x-python",
   "name": "python",
   "nbconvert_exporter": "python",
   "pygments_lexer": "ipython3",
   "version": "3.10.13"
  }
 },
 "nbformat": 4,
 "nbformat_minor": 2
}
