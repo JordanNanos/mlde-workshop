{
 "cells": [
  {
   "cell_type": "markdown",
   "metadata": {},
   "source": [
    "### This notebook includes some example commands using the determined CLI"
   ]
  },
  {
   "cell_type": "code",
   "execution_count": null,
   "metadata": {},
   "outputs": [],
   "source": [
    "#pip install determined==0.31.0"
   ]
  },
  {
   "cell_type": "code",
   "execution_count": 1,
   "metadata": {},
   "outputs": [],
   "source": [
    "#export DET_MASTER=10.10.10.10:8080\n",
    "master_host = \"10.182.1.111:3389\""
   ]
  },
  {
   "cell_type": "code",
   "execution_count": 2,
   "metadata": {},
   "outputs": [
    {
     "name": "stdout",
     "output_type": "stream",
     "text": [
      " Agent ID   | Version   | Registered Time          |   Slots |   Containers | Resource Pool   | Enabled   | Draining   | Addresses\n",
      "------------+-----------+--------------------------+---------+--------------+-----------------+-----------+------------+--------------\n",
      " walnut     | 0.26.3    | 2024-04-29 19:30:50+0000 |       2 |            2 | a100            | True      | False      | 10.182.1.111\n"
     ]
    }
   ],
   "source": [
    "#or, det -m 10.10.10.10:8080 agent list\n",
    "!det -m {master_host} agent list\n",
    "#!det agent list"
   ]
  },
  {
   "cell_type": "code",
   "execution_count": 3,
   "metadata": {},
   "outputs": [
    {
     "name": "stdout",
     "output_type": "stream",
     "text": [
      " Agent ID   | Resource Pool   |   Slot ID | Enabled   | Draining   | Allocation ID                          | Task Name   | Type   | Device\n",
      "------------+-----------------+-----------+-----------+------------+----------------------------------------+-------------+--------+-----------------------\n",
      " walnut     | a100            |         0 | True      | False      | 511c8006-c738-4adb-99f9-2205b540eda8.1 | llama3      | cuda   | NVIDIA A100 80GB PCIe\n",
      " walnut     | a100            |         1 | True      | False      | 41694155-555a-4056-a5de-f722651f8c67.1 | jordan-new  | cuda   | NVIDIA A100 80GB PCIe\n"
     ]
    }
   ],
   "source": [
    "!det slot list"
   ]
  },
  {
   "cell_type": "code",
   "execution_count": 4,
   "metadata": {},
   "outputs": [
    {
     "name": "stdout",
     "output_type": "stream",
     "text": [
      "   ID | Owner   | Name                       | Parent ID   | State     | Progress   | Started                  | Ended                    | Resource Pool\n",
      "------+---------+----------------------------+-------------+-----------+------------+--------------------------+--------------------------+-----------------\n",
      "    7 | admin   | example cifar10 experiment |             | COMPLETED | 100.0%     | 2024-04-30 13:20:10+0000 | 2024-04-30 13:34:33+0000 | a100\n"
     ]
    }
   ],
   "source": [
    "!det experiment list"
   ]
  },
  {
   "cell_type": "code",
   "execution_count": 5,
   "metadata": {},
   "outputs": [
    {
     "name": "stdout",
     "output_type": "stream",
     "text": [
      "det 0.26.3\n"
     ]
    }
   ],
   "source": [
    "!det -v"
   ]
  },
  {
   "cell_type": "code",
   "execution_count": 6,
   "metadata": {},
   "outputs": [
    {
     "name": "stdout",
     "output_type": "stream",
     "text": [
      "You are logged in as user 'admin'\n"
     ]
    }
   ],
   "source": [
    "!det user whoami"
   ]
  },
  {
   "cell_type": "code",
   "execution_count": 7,
   "metadata": {},
   "outputs": [
    {
     "name": "stdout",
     "output_type": "stream",
     "text": [
      "usage: det [-h] [-u username] [-m address] [-v] command ...\n",
      "\n",
      "Determined command-line client\n",
      "\n",
      "positional arguments:\n",
      "  command\n",
      "    help                show help for this command\n",
      "    auth                manage auth\n",
      "    agent (a)           manage agents\n",
      "    command (cmd)       manage commands\n",
      "    checkpoint (c)      manage checkpoints\n",
      "    deploy (d)          manage deployments\n",
      "    experiment (e)      manage experiments\n",
      "    job (j)             manage jobs\n",
      "    master              manage master\n",
      "    model (m)           manage models\n",
      "    notebook            manage notebooks\n",
      "    oauth               manage OAuth\n",
      "    preview-search      preview search\n",
      "    project (p)         manage projects\n",
      "    rbac                manage roles based access controls\n",
      "    resource-pool (rp)  manage resource pools\n",
      "    resources (res)     query historical resource allocation\n",
      "    shell               manage shells\n",
      "    slot (s)            manage slots\n",
      "    task                manage tasks (commands, experiments, notebooks,\n",
      "                        shells, tensorboards)\n",
      "    template (tpl)      manage config templates\n",
      "    tensorboard         manage TensorBoard instances\n",
      "    trial (t)           manage trials\n",
      "    user-group          manage user groups\n",
      "    user (u)            manage users\n",
      "    version             show version information\n",
      "    workspace (w)       manage workspaces\n",
      "\n",
      "options:\n",
      "  -h, --help            show this help message and exit\n",
      "  -u username, --user username\n",
      "                        run as the given user (default: None)\n",
      "  -m address, --master address\n",
      "                        master address (default: localhost:3389)\n",
      "  -v, --version         print CLI version and exit\n"
     ]
    }
   ],
   "source": [
    "!det "
   ]
  },
  {
   "cell_type": "code",
   "execution_count": 8,
   "metadata": {},
   "outputs": [
    {
     "name": "stdout",
     "output_type": "stream",
     "text": [
      "__internal:\n",
      "  audit_logging_enabled: false\n",
      "  external_sessions:\n",
      "    jwt_key: ''\n",
      "    login_uri: ''\n",
      "    logout_uri: ''\n",
      "  proxied_servers: null\n",
      "cache:\n",
      "  cache_dir: /var/cache/determined\n",
      "checkpoint_storage:\n",
      "  host_path: /root/.determined\n",
      "  propagation: null\n",
      "  save_experiment_best: 0\n",
      "  save_trial_best: 1\n",
      "  save_trial_latest: 1\n",
      "  storage_path: determined-checkpoint\n",
      "  type: shared_fs\n",
      "cluster_name: ''\n",
      "config_file: ''\n",
      "db:\n",
      "  host: localhost\n",
      "  migrations: file:///usr/share/determined/master/static/migrations\n",
      "  name: determined\n",
      "  password: '********'\n",
      "  port: '5432'\n",
      "  ssl_mode: disable\n",
      "  ssl_root_cert: ''\n",
      "  user: postgres\n",
      "enable_cors: false\n",
      "feature_switches: []\n",
      "launch_error: true\n",
      "log:\n",
      "  color: true\n",
      "  level: info\n",
      "logging:\n",
      "  type: default\n",
      "notebook_timeout: null\n",
      "observability:\n",
      "  enable_prometheus: false\n",
      "port: 3389\n",
      "reserved_ports: null\n",
      "resource_manager:\n",
      "  client_ca: ''\n",
      "  default_aux_resource_pool: a100\n",
      "  default_compute_resource_pool: a100\n",
      "  no_default_resource_pools: false\n",
      "  require_authentication: false\n",
      "  scheduler:\n",
      "    allow_heterogeneous_fits: false\n",
      "    fitting_policy: best\n",
      "    type: fair_share\n",
      "  type: agent\n",
      "resource_pools:\n",
      "- agent_reattach_enabled: false\n",
      "  agent_reconnect_wait: 25s\n",
      "  description: ''\n",
      "  kubernetes_namespace: ''\n",
      "  max_aux_containers_per_agent: 100\n",
      "  pool_name: a100\n",
      "  provider: null\n",
      "  task_container_defaults: null\n",
      "root: /usr/share/determined/master\n",
      "security:\n",
      "  authz:\n",
      "    _strict_ntsc_enabled: false\n",
      "    fallback: basic\n",
      "    rbac_ui_enabled: null\n",
      "    strict_job_queue_control: false\n",
      "    type: basic\n",
      "    workspace_creator_assign_role:\n",
      "      enabled: true\n",
      "      role_id: 2\n",
      "  default_task:\n",
      "    gid: 0\n",
      "    group: root\n",
      "    id: 0\n",
      "    uid: 0\n",
      "    user: root\n",
      "    user_id: 0\n",
      "  ssh:\n",
      "    rsa_key_size: 1024\n",
      "  tls:\n",
      "    cert: ''\n",
      "    key: ''\n",
      "task_container_defaults:\n",
      "  LogPolicies: null\n",
      "  add_capabilities: null\n",
      "  bind_mounts: null\n",
      "  cpu_pod_spec: null\n",
      "  devices: null\n",
      "  drop_capabilities: null\n",
      "  gpu_pod_spec: null\n",
      "  kubernetes: null\n",
      "  network_mode: host\n",
      "  pbs: {}\n",
      "  shm_size_bytes: 4294967296\n",
      "  slurm: {}\n",
      "  work_dir: null\n",
      "telemetry:\n",
      "  cluster_id: ''\n",
      "  enabled: true\n",
      "  otel_enabled: false\n",
      "  otel_endpoint: localhost:4317\n",
      "  segment_master_key: '********'\n",
      "  segment_webui_key: '********'\n",
      "tensorboard_timeout: 300\n",
      "webhooks:\n",
      "  base_url: ''\n",
      "  signing_key: d8590cd34061\n",
      "\n"
     ]
    }
   ],
   "source": [
    "!det master config"
   ]
  },
  {
   "cell_type": "code",
   "execution_count": null,
   "metadata": {},
   "outputs": [],
   "source": []
  }
 ],
 "metadata": {
  "kernelspec": {
   "display_name": "det26",
   "language": "python",
   "name": "python3"
  },
  "language_info": {
   "codemirror_mode": {
    "name": "ipython",
    "version": 3
   },
   "file_extension": ".py",
   "mimetype": "text/x-python",
   "name": "python",
   "nbconvert_exporter": "python",
   "pygments_lexer": "ipython3",
   "version": "3.10.13"
  }
 },
 "nbformat": 4,
 "nbformat_minor": 2
}
