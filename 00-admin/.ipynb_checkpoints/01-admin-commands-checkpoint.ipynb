{
 "cells": [
  {
   "cell_type": "markdown",
   "metadata": {},
   "source": [
    "### This notebook includes some example commands using the determined CLI"
   ]
  },
  {
   "cell_type": "code",
   "execution_count": null,
   "metadata": {},
   "outputs": [],
   "source": [
    "#pip install determined==0.31.0"
   ]
  },
  {
   "cell_type": "code",
   "execution_count": 1,
   "metadata": {},
   "outputs": [],
   "source": [
    "#export DET_MASTER=10.10.10.10:8080\n",
    "master_host = \"10.182.1.111:3389\""
   ]
  },
  {
   "cell_type": "code",
   "execution_count": 2,
   "metadata": {},
   "outputs": [
    {
     "name": "stdout",
     "output_type": "stream",
     "text": [
      " Agent ID   | Version   | Registered Time          |   Slots |   Containers | Resource Pool   | Enabled   | Draining   | Addresses\n",
      "------------+-----------+--------------------------+---------+--------------+-----------------+-----------+------------+--------------\n",
      " walnut     | 0.26.3    | 2024-04-29 19:30:50+0000 |       2 |            2 | a100            | True      | False      | 10.182.1.111\n"
     ]
    }
   ],
   "source": [
    "#or, det -m 10.10.10.10:8080 agent list\n",
    "!det -m {master_host} agent list\n",
    "#!det agent list"
   ]
  },
  {
   "cell_type": "code",
   "execution_count": 3,
   "metadata": {},
   "outputs": [
    {
     "name": "stdout",
     "output_type": "stream",
     "text": [
      " Agent ID   | Resource Pool   |   Slot ID | Enabled   | Draining   | Allocation ID                          | Task Name   | Type   | Device\n",
      "------------+-----------------+-----------+-----------+------------+----------------------------------------+-------------+--------+-----------------------\n",
      " walnut     | a100            |         0 | True      | False      | 511c8006-c738-4adb-99f9-2205b540eda8.1 | llama3      | cuda   | NVIDIA A100 80GB PCIe\n",
      " walnut     | a100            |         1 | True      | False      | 41694155-555a-4056-a5de-f722651f8c67.1 | jordan-new  | cuda   | NVIDIA A100 80GB PCIe\n"
     ]
    }
   ],
   "source": [
    "!det slot list"
   ]
  },
  {
   "cell_type": "code",
   "execution_count": 4,
   "metadata": {},
   "outputs": [
    {
     "name": "stdout",
     "output_type": "stream",
     "text": [
      "   ID | Owner   | Name                       | Parent ID   | State     | Progress   | Started                  | Ended                    | Resource Pool\n",
      "------+---------+----------------------------+-------------+-----------+------------+--------------------------+--------------------------+-----------------\n",
      "    7 | admin   | example cifar10 experiment |             | COMPLETED | 100.0%     | 2024-04-30 13:20:10+0000 | 2024-04-30 13:34:33+0000 | a100\n"
     ]
    }
   ],
   "source": [
    "!det experiment list"
   ]
  },
  {
   "cell_type": "code",
   "execution_count": 5,
   "metadata": {},
   "outputs": [
    {
     "name": "stdout",
     "output_type": "stream",
     "text": [
      "det 0.26.3\n"
     ]
    }
   ],
   "source": [
    "!det -v"
   ]
  },
  {
   "cell_type": "code",
   "execution_count": 6,
   "metadata": {},
   "outputs": [
    {
     "name": "stdout",
     "output_type": "stream",
     "text": [
      "You are logged in as user 'admin'\n"
     ]
    }
   ],
   "source": [
    "!det user whoami"
   ]
  },
  {
   "cell_type": "code",
   "execution_count": 7,
   "metadata": {},
   "outputs": [
    {
     "name": "stdout",
     "output_type": "stream",
     "text": [
      "usage: det [-h] [-u username] [-m address] [-v] command ...\n",
      "\n",
      "Determined command-line client\n",
      "\n",
      "positional arguments:\n",
      "  command\n",
      "    help                show help for this command\n",
      "    auth                manage auth\n",
      "    agent (a)           manage agents\n",
      "    command (cmd)       manage commands\n",
      "    checkpoint (c)      manage checkpoints\n",
      "    deploy (d)          manage deployments\n",
      "    experiment (e)      manage experiments\n",
      "    job (j)             manage jobs\n",
      "    master              manage master\n",
      "    model (m)           manage models\n",
      "    notebook            manage notebooks\n",
      "    oauth               manage OAuth\n",
      "    preview-search      preview search\n",
      "    project (p)         manage projects\n",
      "    rbac                manage roles based access controls\n",
      "    resource-pool (rp)  manage resource pools\n",
      "    resources (res)     query historical resource allocation\n",
      "    shell               manage shells\n",
      "    slot (s)            manage slots\n",
      "    task                manage tasks (commands, experiments, notebooks,\n",
      "                        shells, tensorboards)\n",
      "    template (tpl)      manage config templates\n",
      "    tensorboard         manage TensorBoard instances\n",
      "    trial (t)           manage trials\n",
      "    user-group          manage user groups\n",
      "    user (u)            manage users\n",
      "    version             show version information\n",
      "    workspace (w)       manage workspaces\n",
      "\n",
      "options:\n",
      "  -h, --help            show this help message and exit\n",
      "  -u username, --user username\n",
      "                        run as the given user (default: None)\n",
      "  -m address, --master address\n",
      "                        master address (default: localhost:3389)\n",
      "  -v, --version         print CLI version and exit\n"
     ]
    }
   ],
   "source": [
    "!det "
   ]
  },
  {
   "cell_type": "code",
   "execution_count": 8,
   "metadata": {},
   "outputs": [
    {
     "name": "stdout",
     "output_type": "stream",
     "text": [
      "__internal:\n",
      "  audit_logging_enabled: false\n",
      "  external_sessions:\n",
      "    jwt_key: ''\n",
      "    login_uri: ''\n",
      "    logout_uri: ''\n",
      "  proxied_servers: null\n",
      "cache:\n",
      "  cache_dir: /var/cache/determined\n",
      "checkpoint_storage:\n",
      "  host_path: /root/.determined\n",
      "  propagation: null\n",
      "  save_experiment_best: 0\n",
      "  save_trial_best: 1\n",
      "  save_trial_latest: 1\n",
      "  storage_path: determined-checkpoint\n",
      "  type: shared_fs\n",
      "cluster_name: ''\n",
      "config_file: ''\n",
      "db:\n",
      "  host: localhost\n",
      "  migrations: file:///usr/share/determined/master/static/migrations\n",
      "  name: determined\n",
      "  password: '********'\n",
      "  port: '5432'\n",
      "  ssl_mode: disable\n",
      "  ssl_root_cert: ''\n",
      "  user: postgres\n",
      "enable_cors: false\n",
      "feature_switches: []\n",
      "launch_error: true\n",
      "log:\n",
      "  color: true\n",
      "  level: info\n",
      "logging:\n",
      "  type: default\n",
      "notebook_timeout: null\n",
      "observability:\n",
      "  enable_prometheus: false\n",
      "port: 3389\n",
      "reserved_ports: null\n",
      "resource_manager:\n",
      "  client_ca: ''\n",
      "  default_aux_resource_pool: a100\n",
      "  default_compute_resource_pool: a100\n",
      "  no_default_resource_pools: false\n",
      "  require_authentication: false\n",
      "  scheduler:\n",
      "    allow_heterogeneous_fits: false\n",
      "    fitting_policy: best\n",
      "    type: fair_share\n",
      "  type: agent\n",
      "resource_pools:\n",
      "- agent_reattach_enabled: false\n",
      "  agent_reconnect_wait: 25s\n",
      "  description: ''\n",
      "  kubernetes_namespace: ''\n",
      "  max_aux_containers_per_agent: 100\n",
      "  pool_name: a100\n",
      "  provider: null\n",
      "  task_container_defaults: null\n",
      "root: /usr/share/determined/master\n",
      "security:\n",
      "  authz:\n",
      "    _strict_ntsc_enabled: false\n",
      "    fallback: basic\n",
      "    rbac_ui_enabled: null\n",
      "    strict_job_queue_control: false\n",
      "    type: basic\n",
      "    workspace_creator_assign_role:\n",
      "      enabled: true\n",
      "      role_id: 2\n",
      "  default_task:\n",
      "    gid: 0\n",
      "    group: root\n",
      "    id: 0\n",
      "    uid: 0\n",
      "    user: root\n",
      "    user_id: 0\n",
      "  ssh:\n",
      "    rsa_key_size: 1024\n",
      "  tls:\n",
      "    cert: ''\n",
      "    key: ''\n",
      "task_container_defaults:\n",
      "  LogPolicies: null\n",
      "  add_capabilities: null\n",
      "  bind_mounts: null\n",
      "  cpu_pod_spec: null\n",
      "  devices: null\n",
      "  drop_capabilities: null\n",
      "  gpu_pod_spec: null\n",
      "  kubernetes: null\n",
      "  network_mode: host\n",
      "  pbs: {}\n",
      "  shm_size_bytes: 4294967296\n",
      "  slurm: {}\n",
      "  work_dir: null\n",
      "telemetry:\n",
      "  cluster_id: ''\n",
      "  enabled: true\n",
      "  otel_enabled: false\n",
      "  otel_endpoint: localhost:4317\n",
      "  segment_master_key: '********'\n",
      "  segment_webui_key: '********'\n",
      "tensorboard_timeout: 300\n",
      "webhooks:\n",
      "  base_url: ''\n",
      "  signing_key: d8590cd34061\n",
      "\n"
     ]
    }
   ],
   "source": [
    "!det master config"
   ]
  },
  {
   "cell_type": "code",
   "execution_count": 9,
   "metadata": {},
   "outputs": [
    {
     "name": "stdout",
     "output_type": "stream",
     "text": [
      "   ID | Name          |   # Projects | Agent Uid   | Agent Gid   | Agent User   | Agent Group   | Default Compute Pool   | Default Aux Pool\n",
      "------+---------------+--------------+-------------+-------------+--------------+---------------+------------------------+--------------------\n",
      "    1 | Uncategorized |            1 |             |             |              |               |                        |\n",
      "   34 | test          |            0 |             |             |              |               |                        |\n",
      "   35 | kdev          |            2 |             |             |              |               |                        |\n"
     ]
    }
   ],
   "source": [
    "!det workspace list"
   ]
  },
  {
   "cell_type": "code",
   "execution_count": 10,
   "metadata": {},
   "outputs": [
    {
     "name": "stdout",
     "output_type": "stream",
     "text": [
      "   ID | Name   |   # Projects | Agent Uid   | Agent Gid   | Agent User   | Agent Group   | Default Compute Pool   | Default Aux Pool   | Checkpoint Storage Config\n",
      "------+--------+--------------+-------------+-------------+--------------+---------------+------------------------+--------------------+-----------------------------\n",
      "   36 | new    |            0 |             |             |              |               |                        |                    |\n"
     ]
    }
   ],
   "source": [
    "!det workspace create new"
   ]
  },
  {
   "cell_type": "code",
   "execution_count": 11,
   "metadata": {},
   "outputs": [
    {
     "name": "stdout",
     "output_type": "stream",
     "text": [
      "   ID | Name          |   # Projects | Agent Uid   | Agent Gid   | Agent User   | Agent Group   | Default Compute Pool   | Default Aux Pool\n",
      "------+---------------+--------------+-------------+-------------+--------------+---------------+------------------------+--------------------\n",
      "    1 | Uncategorized |            1 |             |             |              |               |                        |\n",
      "   34 | test          |            0 |             |             |              |               |                        |\n",
      "   35 | kdev          |            2 |             |             |              |               |                        |\n",
      "   36 | new           |            0 |             |             |              |               |                        |\n"
     ]
    }
   ],
   "source": [
    "!det workspace list"
   ]
  },
  {
   "cell_type": "code",
   "execution_count": 12,
   "metadata": {},
   "outputs": [
    {
     "name": "stdout",
     "output_type": "stream",
     "text": [
      " ID   | Name   | Description   | # Experiments   | # Active Experiments\n",
      "------+--------+---------------+-----------------+------------------------\n"
     ]
    }
   ],
   "source": [
    "!det project list new"
   ]
  },
  {
   "cell_type": "code",
   "execution_count": 13,
   "metadata": {},
   "outputs": [
    {
     "name": "stdout",
     "output_type": "stream",
     "text": [
      "   ID | Name        | Description   |   # Experiments |   # Active Experiments\n",
      "------+-------------+---------------+-----------------+------------------------\n",
      "   36 | new-project |               |               0 |                      0\n"
     ]
    }
   ],
   "source": [
    "!det project create new new-project"
   ]
  },
  {
   "cell_type": "code",
   "execution_count": 14,
   "metadata": {},
   "outputs": [
    {
     "name": "stdout",
     "output_type": "stream",
     "text": [
      "   ID | Name        | Description   |   # Experiments |   # Active Experiments\n",
      "------+-------------+---------------+-----------------+------------------------\n",
      "   36 | new-project |               |               0 |                      0\n"
     ]
    }
   ],
   "source": [
    "!det project list new"
   ]
  },
  {
   "cell_type": "code",
   "execution_count": 15,
   "metadata": {},
   "outputs": [],
   "source": [
    "!det master config > master.yaml"
   ]
  },
  {
   "cell_type": "code",
   "execution_count": 16,
   "metadata": {},
   "outputs": [],
   "source": [
    "!det master logs > master.log"
   ]
  },
  {
   "cell_type": "code",
   "execution_count": 17,
   "metadata": {},
   "outputs": [
    {
     "name": "stdout",
     "output_type": "stream",
     "text": [
      "\u001b[32mLaunched command (id: b7bf28ff-dfe2-4deb-ac90-65c18d6693e7).\u001b[0m\n",
      "[2024-04-30T18:23:21.008790Z]          || INFO: Scheduling Command (probably-engaged-drum) (id: b7bf28ff-dfe2-4deb-ac90-65c18d6693e7.1)\n",
      "[2024-04-30T18:23:21.357305Z]          || INFO: Command (probably-engaged-drum) was assigned to an agent\n",
      "[2024-04-30T18:23:21.362041Z] bcac02eb || INFO: image already found, skipping pull phase: docker.io/determinedai/environments:cuda-11.3-pytorch-1.12-tf-2.11-gpu-2b7e2a1\n",
      "[2024-04-30T18:23:21.384575Z] bcac02eb || INFO: copying files to container: /\n",
      "[2024-04-30T18:23:21.395100Z] bcac02eb || INFO: copying files to container: /run/determined\n",
      "[2024-04-30T18:23:21.404643Z] bcac02eb || INFO: copying files to container: /\n",
      "[2024-04-30T18:23:21.416226Z] bcac02eb || INFO: copying files to container: /\n",
      "[2024-04-30T18:23:21.427248Z] bcac02eb || INFO: copying files to container: /\n",
      "[2024-04-30T18:23:21.751529Z] bcac02eb || INFO: Resources for Command (probably-engaged-drum) have started\n",
      "[2024-04-30T18:23:25.376767Z] bcac02eb || WARNING: Running pip as the 'root' user can result in broken permissions and conflicting behaviour with the system package manager. It is recommended to use a virtual environment instead: https://pip.pypa.io/warnings/venv\n",
      "[2024-04-30T18:23:26.154653Z] bcac02eb || Tue Apr 30 18:23:26 2024       \n",
      "[2024-04-30T18:23:26.154776Z] bcac02eb || +-----------------------------------------------------------------------------------------+\n",
      "[2024-04-30T18:23:26.154797Z] bcac02eb || | NVIDIA-SMI 550.67                 Driver Version: 550.67         CUDA Version: 12.4     |\n",
      "[2024-04-30T18:23:26.154814Z] bcac02eb || |-----------------------------------------+------------------------+----------------------+\n",
      "[2024-04-30T18:23:26.154830Z] bcac02eb || | GPU  Name                 Persistence-M | Bus-Id          Disp.A | Volatile Uncorr. ECC |\n",
      "[2024-04-30T18:23:26.154853Z] bcac02eb || | Fan  Temp   Perf          Pwr:Usage/Cap |           Memory-Usage | GPU-Util  Compute M. |\n",
      "[2024-04-30T18:23:26.154869Z] bcac02eb || |                                         |                        |               MIG M. |\n",
      "[2024-04-30T18:23:26.154883Z] bcac02eb || |=========================================+========================+======================|\n",
      "[2024-04-30T18:23:26.218552Z] bcac02eb || |   0  NVIDIA A100 80GB PCIe          Off |   00000000:27:00.0 Off |                    0 |\n",
      "[2024-04-30T18:23:26.218684Z] bcac02eb || | N/A   34C    P0             43W /  300W |       1MiB /  81920MiB |      0%      Default |\n",
      "[2024-04-30T18:23:26.218706Z] bcac02eb || |                                         |                        |             Disabled |\n",
      "[2024-04-30T18:23:26.218722Z] bcac02eb || +-----------------------------------------+------------------------+----------------------+\n",
      "[2024-04-30T18:23:26.218753Z] bcac02eb ||                                                                                          \n",
      "[2024-04-30T18:23:26.218790Z] bcac02eb || +-----------------------------------------------------------------------------------------+\n",
      "[2024-04-30T18:23:26.218806Z] bcac02eb || | Processes:                                                                              |\n",
      "[2024-04-30T18:23:26.218821Z] bcac02eb || |  GPU   GI   CI        PID   Type   Process name                              GPU Memory |\n",
      "[2024-04-30T18:23:26.218836Z] bcac02eb || |        ID   ID                                                               Usage      |\n",
      "[2024-04-30T18:23:26.218850Z] bcac02eb || |=========================================================================================|\n",
      "[2024-04-30T18:23:26.219057Z] bcac02eb || |  No running processes found                                                             |\n",
      "[2024-04-30T18:23:26.219116Z] bcac02eb || +-----------------------------------------------------------------------------------------+\n",
      "[2024-04-30T18:23:26.679217Z] bcac02eb || INFO: resources exited successfully with a zero exit code\n",
      "[2024-04-30T18:23:26.685868Z]          || INFO: Command (probably-engaged-drum) was terminated: allocation stopped early after all resources exited: resources exited successfully with a zero exit code\n",
      "\u001b[32mTask log stream ended. To reopen log stream, run: det task logs -f b7bf28ff-dfe2-4deb-ac90-65c18d6693e7\u001b[0m\n"
     ]
    }
   ],
   "source": [
    "!det cmd run nvidia-smi "
   ]
  },
  {
   "cell_type": "code",
   "execution_count": null,
   "metadata": {},
   "outputs": [],
   "source": []
  }
 ],
 "metadata": {
  "kernelspec": {
   "display_name": "det26",
   "language": "python",
   "name": "python3"
  },
  "language_info": {
   "codemirror_mode": {
    "name": "ipython",
    "version": 3
   },
   "file_extension": ".py",
   "mimetype": "text/x-python",
   "name": "python",
   "nbconvert_exporter": "python",
   "pygments_lexer": "ipython3",
   "version": "3.10.13"
  }
 },
 "nbformat": 4,
 "nbformat_minor": 2
}
